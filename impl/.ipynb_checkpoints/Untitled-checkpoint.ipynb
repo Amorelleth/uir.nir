{
 "cells": [
  {
   "cell_type": "code",
   "execution_count": 4,
   "id": "8ede3516",
   "metadata": {},
   "outputs": [],
   "source": [
    "import csv\n",
    "import numpy as np\n",
    "import pandas as pd\n",
    "\n",
    "df = pd.read_csv(f'./input/enron/messages.csv')\n",
    "df = df.fillna(' ')\n",
    "\n",
    "X = np.array(df['message'])\n",
    "y = np.array(df['label'])"
   ]
  },
  {
   "cell_type": "code",
   "execution_count": 5,
   "id": "d886c05f",
   "metadata": {},
   "outputs": [],
   "source": [
    "from mealpy.swarm_based import AO, HGS, SSA, MRFO\n",
    "\n",
    "def resolve_clf(alg):\n",
    "    if alg == 'AO':\n",
    "        return AO.OriginalAO\n",
    "    elif alg == 'HGS':\n",
    "        return HGS.OriginalHGS\n",
    "    elif alg == 'SSA':\n",
    "        return SSA.OriginalSSA\n",
    "    elif alg == 'MRFO':\n",
    "        return MRFO.BaseMRFO\n",
    "\n",
    "\n",
    "def test_bio_alg(clf, obj_function):\n",
    "    problem = {\n",
    "        'obj_func': obj_function,\n",
    "        'lb': [0.0001, 0.0001, 0.0001],\n",
    "        'ub': [1000, 1000, 1000],\n",
    "        'minmax': 'max',\n",
    "        'verbose': True,\n",
    "    }\n",
    "    model = clf(problem, epoch=10, pop_size=60)\n",
    "    model.solve()\n",
    "    return model.g_best"
   ]
  },
  {
   "cell_type": "code",
   "execution_count": 24,
   "id": "eb8504be",
   "metadata": {},
   "outputs": [],
   "source": [
    "from sklearn.model_selection import train_test_split\n",
    "from sklearn.feature_extraction.text import TfidfVectorizer\n",
    "from nltk.corpus import stopwords\n",
    "\n",
    "# size of test part of dataset\n",
    "SIZE = 0.25"
   ]
  },
  {
   "cell_type": "code",
   "execution_count": 14,
   "id": "2355d8ac",
   "metadata": {},
   "outputs": [],
   "source": [
    "# split dataset\n",
    "X_train, X_test, y_train, y_test = train_test_split(X, y, test_size=SIZE)\n",
    "\n",
    "# tokenization\n",
    "cv = TfidfVectorizer(stop_words=stopwords.words('english'))\n",
    "X_train = cv.fit_transform(X_train)\n",
    "X_test = cv.transform(X_test)"
   ]
  },
  {
   "cell_type": "code",
   "execution_count": 16,
   "id": "fcca26a1",
   "metadata": {},
   "outputs": [],
   "source": [
    "BIO_ALGS = ['AO', 'HGS', 'SSA', 'MRFO']"
   ]
  },
  {
   "cell_type": "code",
   "execution_count": 17,
   "id": "c03e5533",
   "metadata": {},
   "outputs": [],
   "source": [
    "def obj_function(solution):\n",
    "    alpha, epsilon, tol = solution\n",
    "    clf = SGDClassifier(alpha=alpha, epsilon=epsilon, tol=tol)\n",
    "    clf.fit(X_train, y_train)\n",
    "\n",
    "    calibrator = CalibratedClassifierCV(clf, cv='prefit')\n",
    "    model = calibrator.fit(X_train, y_train)\n",
    "    y_score = model.predict_proba(X_test)\n",
    "\n",
    "    return roc_auc_score(y_test, y_score[:, 1])"
   ]
  },
  {
   "cell_type": "code",
   "execution_count": 25,
   "id": "c371e9b8",
   "metadata": {},
   "outputs": [],
   "source": [
    "from sklearn.linear_model import SGDClassifier\n",
    "from sklearn.calibration import CalibratedClassifierCV\n",
    "from sklearn.metrics import roc_auc_score"
   ]
  },
  {
   "cell_type": "code",
   "execution_count": 28,
   "id": "320e0830",
   "metadata": {},
   "outputs": [
    {
     "name": "stdout",
     "output_type": "stream",
     "text": [
      "> Epoch: 1, Current best: 0.99906499056149, Global best: 0.99906499056149, Runtime: 8.63985 seconds\n",
      "> Epoch: 2, Current best: 0.99906499056149, Global best: 0.99906499056149, Runtime: 7.44782 seconds\n",
      "> Epoch: 3, Current best: 0.99906499056149, Global best: 0.99906499056149, Runtime: 6.85458 seconds\n",
      "> Epoch: 4, Current best: 0.99906499056149, Global best: 0.99906499056149, Runtime: 6.30865 seconds\n",
      "> Epoch: 5, Current best: 0.99906499056149, Global best: 0.99906499056149, Runtime: 6.25252 seconds\n",
      "> Epoch: 6, Current best: 0.99906499056149, Global best: 0.99906499056149, Runtime: 6.22552 seconds\n",
      "> Epoch: 7, Current best: 0.999065441087028, Global best: 0.999065441087028, Runtime: 15.93744 seconds\n",
      "> Epoch: 8, Current best: 0.999065441087028, Global best: 0.999065441087028, Runtime: 12.87079 seconds\n",
      "> Epoch: 9, Current best: 0.999065441087028, Global best: 0.999065441087028, Runtime: 10.42839 seconds\n",
      "> Epoch: 10, Current best: 0.999065441087028, Global best: 0.999065441087028, Runtime: 12.74055 seconds\n",
      "AO with enron is best with:  [array([0.0001, 0.0001, 0.0001]), [0.999065441087028, [0.999065441087028]]]\n"
     ]
    }
   ],
   "source": [
    "alg = 'AO'\n",
    "clf = resolve_clf(alg)\n",
    "best_params_ = test_bio_alg(clf, obj_function)\n",
    "alpha, epsilon, tol = best_params_[0]\n",
    "\n",
    "model = SGDClassifier(alpha=alpha, epsilon=epsilon, tol=tol)\n",
    "model.fit(X_train, y_train)\n",
    "\n",
    "# print best params\n",
    "print(f'{alg} with enron is best with: ', f'{best_params_}'.rjust(29, ' '))"
   ]
  },
  {
   "cell_type": "code",
   "execution_count": 29,
   "id": "d9e1ac2f",
   "metadata": {},
   "outputs": [
    {
     "name": "stdout",
     "output_type": "stream",
     "text": [
      "> Epoch: 1, Current best: 0.9990660042439505, Global best: 0.9990660042439505, Runtime: 7.22585 seconds\n",
      "> Epoch: 2, Current best: 0.9990665110851807, Global best: 0.9990665110851807, Runtime: 10.32216 seconds\n",
      "> Epoch: 3, Current best: 0.9990657226654892, Global best: 0.9990665110851807, Runtime: 12.81471 seconds\n",
      "> Epoch: 4, Current best: 0.9990631884593377, Global best: 0.9990665110851807, Runtime: 15.08706 seconds\n",
      "> Epoch: 5, Current best: 0.9990662858224117, Global best: 0.9990665110851807, Runtime: 14.46896 seconds\n",
      "> Epoch: 6, Current best: 0.9990646526673365, Global best: 0.9990665110851807, Runtime: 13.22796 seconds\n",
      "> Epoch: 7, Current best: 0.9990656100341048, Global best: 0.9990665110851807, Runtime: 13.68029 seconds\n",
      "> Epoch: 8, Current best: 0.9990650468771823, Global best: 0.9990665110851807, Runtime: 17.21571 seconds\n",
      "> Epoch: 9, Current best: 0.9990641458261061, Global best: 0.9990665110851807, Runtime: 15.37429 seconds\n",
      "> Epoch: 10, Current best: 0.9990646526673365, Global best: 0.9990665110851807, Runtime: 14.84761 seconds\n",
      "HGS with enron is best with:  [array([0.0001, 0.0001, 0.0001]), [0.9990665110851807, [0.9990665110851807]], 10612.137084935057]\n"
     ]
    }
   ],
   "source": [
    "alg = 'HGS'\n",
    "clf = resolve_clf(alg)\n",
    "best_params_ = test_bio_alg(clf, obj_function)\n",
    "alpha, epsilon, tol = best_params_[0]\n",
    "\n",
    "model = SGDClassifier(alpha=alpha, epsilon=epsilon, tol=tol)\n",
    "model.fit(X_train, y_train)\n",
    "\n",
    "# print best params\n",
    "print(f'{alg} with enron is best with: ', f'{best_params_}'.rjust(29, ' '))"
   ]
  },
  {
   "cell_type": "code",
   "execution_count": 30,
   "id": "86a8b83c",
   "metadata": {},
   "outputs": [
    {
     "name": "stdout",
     "output_type": "stream",
     "text": [
      "> Epoch: 1, Current best: 0.9941685100669931, Global best: 0.9941685100669931, Runtime: 15.86160 seconds\n",
      "> Epoch: 2, Current best: 0.9967776160891679, Global best: 0.9967776160891679, Runtime: 13.54730 seconds\n",
      "> Epoch: 3, Current best: 0.9967776160891679, Global best: 0.9967776160891679, Runtime: 13.09876 seconds\n",
      "> Epoch: 4, Current best: 0.9967776160891679, Global best: 0.9967776160891679, Runtime: 14.29289 seconds\n",
      "> Epoch: 5, Current best: 0.9967776160891679, Global best: 0.9967776160891679, Runtime: 19.16693 seconds\n",
      "> Epoch: 6, Current best: 0.9967776160891679, Global best: 0.9967776160891679, Runtime: 16.62466 seconds\n",
      "> Epoch: 7, Current best: 0.9967776160891679, Global best: 0.9967776160891679, Runtime: 15.82414 seconds\n",
      "> Epoch: 8, Current best: 0.9967776160891679, Global best: 0.9967776160891679, Runtime: 18.57276 seconds\n",
      "> Epoch: 9, Current best: 0.9967776160891679, Global best: 0.9967776160891679, Runtime: 17.89888 seconds\n",
      "> Epoch: 10, Current best: 0.9967776160891679, Global best: 0.9967776160891679, Runtime: 16.59485 seconds\n",
      "SSA with enron is best with:  [array([0.00187642, 0.00422567, 0.0034566 ]), [0.9967776160891679, [0.9967776160891679]]]\n"
     ]
    }
   ],
   "source": [
    "alg = 'SSA'\n",
    "clf = resolve_clf(alg)\n",
    "best_params_ = test_bio_alg(clf, obj_function)\n",
    "alpha, epsilon, tol = best_params_[0]\n",
    "\n",
    "model = SGDClassifier(alpha=alpha, epsilon=epsilon, tol=tol)\n",
    "model.fit(X_train, y_train)\n",
    "\n",
    "# print best params\n",
    "print(f'{alg} with enron is best with: ', f'{best_params_}'.rjust(29, ' '))"
   ]
  },
  {
   "cell_type": "code",
   "execution_count": 31,
   "id": "75c53559",
   "metadata": {},
   "outputs": [
    {
     "name": "stdout",
     "output_type": "stream",
     "text": [
      "> Epoch: 1, Current best: 0.9990847010537792, Global best: 0.9990847010537792, Runtime: 17.79025 seconds\n",
      "> Epoch: 2, Current best: 0.9991026094439163, Global best: 0.9991026094439163, Runtime: 16.46893 seconds\n",
      "> Epoch: 3, Current best: 0.9991026094439163, Global best: 0.9991026094439163, Runtime: 17.41599 seconds\n",
      "> Epoch: 4, Current best: 0.9991026094439163, Global best: 0.9991026094439163, Runtime: 18.10333 seconds\n",
      "> Epoch: 5, Current best: 0.9991026094439163, Global best: 0.9991026094439163, Runtime: 15.52336 seconds\n",
      "> Epoch: 6, Current best: 0.9991026094439163, Global best: 0.9991026094439163, Runtime: 17.94680 seconds\n",
      "> Epoch: 7, Current best: 0.9991026094439163, Global best: 0.9991026094439163, Runtime: 22.49260 seconds\n",
      "> Epoch: 8, Current best: 0.9991026094439163, Global best: 0.9991026094439163, Runtime: 15.40007 seconds\n",
      "> Epoch: 9, Current best: 0.9991026094439163, Global best: 0.9991026094439163, Runtime: 15.90241 seconds\n",
      "> Epoch: 10, Current best: 0.9991026094439163, Global best: 0.9991026094439163, Runtime: 16.55587 seconds\n",
      "MRFO with enron is best with:  [array([1.e-04, 1.e+03, 1.e+03]), [0.9991026094439163, [0.9991026094439163]]]\n"
     ]
    }
   ],
   "source": [
    "alg = 'MRFO'\n",
    "clf = resolve_clf(alg)\n",
    "best_params_ = test_bio_alg(clf, obj_function)\n",
    "alpha, epsilon, tol = best_params_[0]\n",
    "\n",
    "model = SGDClassifier(alpha=alpha, epsilon=epsilon, tol=tol)\n",
    "model.fit(X_train, y_train)\n",
    "\n",
    "# print best params\n",
    "print(f'{alg} with enron is best with: ', f'{best_params_}'.rjust(29, ' '))"
   ]
  },
  {
   "cell_type": "code",
   "execution_count": 42,
   "id": "259f03d8",
   "metadata": {},
   "outputs": [
    {
     "name": "stdout",
     "output_type": "stream",
     "text": [
      "RSCV {'tol': 0.1, 'epsilon': 100, 'alpha': 0.001}\n"
     ]
    }
   ],
   "source": [
    "tuned_parameters = {\n",
    "    'epsilon': [0.0001, 0.001, 0.01, 0.1, 1, 10, 100, 1000],\n",
    "    'alpha': [0.0001, 0.001, 0.01, 0.1, 1, 10, 100, 1000],\n",
    "    'tol': [0.0001, 0.001, 0.01, 0.1, 1, 10, 100, 1000]\n",
    "}\n",
    "\n",
    "clf = SGDClassifier(random_state=0)\n",
    "model = RandomizedSearchCV(clf, tuned_parameters, scoring=\"roc_auc\", random_state=0)\n",
    "model.fit(X_train, y_train)\n",
    "print('RSCV', model.best_params_)"
   ]
  },
  {
   "cell_type": "code",
   "execution_count": null,
   "id": "4af30dd4",
   "metadata": {},
   "outputs": [],
   "source": []
  }
 ],
 "metadata": {
  "kernelspec": {
   "display_name": "Python 3 (ipykernel)",
   "language": "python",
   "name": "python3"
  },
  "language_info": {
   "codemirror_mode": {
    "name": "ipython",
    "version": 3
   },
   "file_extension": ".py",
   "mimetype": "text/x-python",
   "name": "python",
   "nbconvert_exporter": "python",
   "pygments_lexer": "ipython3",
   "version": "3.9.7"
  }
 },
 "nbformat": 4,
 "nbformat_minor": 5
}
