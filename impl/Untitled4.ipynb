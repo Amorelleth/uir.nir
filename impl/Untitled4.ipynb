{
 "cells": [
  {
   "cell_type": "code",
   "execution_count": 3,
   "id": "18f1dc86",
   "metadata": {},
   "outputs": [],
   "source": [
    "from sklearn.pipeline import Pipeline\n",
    "from sklearn.pipeline import Pipeline, make_pipeline\n",
    "from sklearn.model_selection import cross_val_score\n",
    "from sklearn.model_selection import KFold\n",
    "from numpy import std\n",
    "from numpy import mean\n",
    "from mealpy.swarm_based import AO, HGS, SSA, MRFO, HHO\n",
    "from matplotlib import pyplot\n",
    "from nltk.corpus import stopwords\n",
    "from sklearn.feature_extraction.text import TfidfVectorizer\n",
    "from sklearn.linear_model import SGDClassifier\n",
    "from sklearn.svm import SVC\n",
    "from sklearn.metrics import roc_auc_score, roc_curve, precision_recall_curve\n",
    "from sklearn.metrics import accuracy_score, precision_score, recall_score, f1_score, auc\n",
    "from sklearn.model_selection import train_test_split, GridSearchCV, RandomizedSearchCV\n",
    "import numpy as np\n",
    "import pandas as pd\n",
    "\n",
    "enron = pd.read_csv(f'./input/enron/messages.csv').fillna(' ')\n",
    "X_enron = np.array(enron['message'])\n",
    "y_enron = np.array(enron['label'])\n",
    "\n",
    "ling_spam = pd.read_csv(f'./input/ling_spam/messages.csv').fillna(' ')\n",
    "X_ling_spam = np.array(ling_spam['message'])\n",
    "y_ling_spam = np.array(ling_spam['label'])\n",
    "\n",
    "spam_assasin = pd.read_csv(\n",
    "    f'./input/spam_assasin/messages.csv').fillna(' ')\n",
    "X_spam_assasin = np.array(spam_assasin['message'])\n",
    "y_spam_assasin = np.array(spam_assasin['label'])\n",
    "\n",
    "from sklearn.pipeline import Pipeline\n",
    "from sklearn.feature_extraction.text import TfidfVectorizer\n",
    "from sklearn.naive_bayes import MultinomialNB\n",
    "from sklearn.metrics import accuracy_score"
   ]
  },
  {
   "cell_type": "code",
   "execution_count": 4,
   "id": "c8254d8f",
   "metadata": {},
   "outputs": [],
   "source": [
    "X_train, X_test, y_train, y_test = train_test_split(X_enron, y_enron, test_size=0.3)\n",
    "\n",
    "clf_pipeline = Pipeline([\n",
    "    ('tfidf_vectorizer', TfidfVectorizer()),\n",
    "    ('classificator', SVC())])"
   ]
  },
  {
   "cell_type": "code",
   "execution_count": null,
   "id": "50a40c5f",
   "metadata": {},
   "outputs": [],
   "source": [
    "clf_pipeline.fit(X_train, y_train)\n",
    "predictions = clf_pipeline.predict(X_train)\n",
    "score = accuracy_score(y_train,predictions)\n",
    "print(f\"Acurácia de treinamento: {score*100:.2f}%\")\n",
    "\n",
    "predictions_test = clf_pipeline.predict(X_test)\n",
    "score = accuracy_score(y_test, predictions_test)\n",
    "print(f\"Acurácia de teste: {score*100:.2f}%\")\n",
    "print()\n",
    "\n",
    "print(\"Matriz de confusão do set de teste:\")\n",
    "y_true = pd.Series(y_test, name='Real')\n",
    "y_pred = pd.Series(predictions_test, name='Previsto')\n",
    "pd.crosstab(y_true, y_pred)\n",
    "\n",
    "y2_pred = clf_pipeline.predict(X_ling_spam)\n",
    "# print(clf_pipeline.predict_proba(X_ling_spam[0]))\n",
    "print(f\"Acurácia: {accuracy_score(y_ling_spam, y2_pred)*100:.2f}%\")"
   ]
  },
  {
   "cell_type": "code",
   "execution_count": null,
   "id": "2bfe1674",
   "metadata": {},
   "outputs": [],
   "source": []
  }
 ],
 "metadata": {
  "kernelspec": {
   "display_name": "Python 3 (ipykernel)",
   "language": "python",
   "name": "python3"
  },
  "language_info": {
   "codemirror_mode": {
    "name": "ipython",
    "version": 3
   },
   "file_extension": ".py",
   "mimetype": "text/x-python",
   "name": "python",
   "nbconvert_exporter": "python",
   "pygments_lexer": "ipython3",
   "version": "3.9.12"
  }
 },
 "nbformat": 4,
 "nbformat_minor": 5
}
