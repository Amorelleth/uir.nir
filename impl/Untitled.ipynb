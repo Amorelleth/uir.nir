{
 "cells": [
  {
   "cell_type": "code",
   "execution_count": 4,
   "id": "1a4ec7e3",
   "metadata": {},
   "outputs": [],
   "source": [
    "import csv\n",
    "import numpy as np\n",
    "import pandas as pd\n",
    "\n",
    "df = pd.read_csv(f'./input/enron/messages.csv')\n",
    "df = df.fillna(' ')\n",
    "\n",
    "X = np.array(df['message'])\n",
    "y = np.array(df['label'])"
   ]
  },
  {
   "cell_type": "code",
   "execution_count": 5,
   "id": "fc4368df",
   "metadata": {},
   "outputs": [],
   "source": [
    "from mealpy.swarm_based import AO, HGS, SSA, MRFO\n",
    "\n",
    "def resolve_clf(alg):\n",
    "    if alg == 'AO':\n",
    "        return AO.OriginalAO\n",
    "    elif alg == 'HGS':\n",
    "        return HGS.OriginalHGS\n",
    "    elif alg == 'SSA':\n",
    "        return SSA.OriginalSSA\n",
    "    elif alg == 'MRFO':\n",
    "        return MRFO.BaseMRFO\n",
    "\n",
    "\n",
    "def test_bio_alg(clf, obj_function):\n",
    "    problem = {\n",
    "        'obj_func': obj_function,\n",
    "        'lb': [0.0001, 0.0001, 0.0001],\n",
    "        'ub': [1000, 1000, 1000],\n",
    "        'minmax': 'max',\n",
    "        'verbose': True,\n",
    "    }\n",
    "    model = clf(problem, epoch=10, pop_size=60)\n",
    "    model.solve()\n",
    "    return model.g_best"
   ]
  },
  {
   "cell_type": "code",
   "execution_count": 24,
   "id": "48a315ea",
   "metadata": {},
   "outputs": [],
   "source": [
    "from sklearn.model_selection import train_test_split\n",
    "from sklearn.feature_extraction.text import TfidfVectorizer\n",
    "from nltk.corpus import stopwords\n",
    "\n",
    "# size of test part of dataset\n",
    "SIZE = 0.25"
   ]
  },
  {
   "cell_type": "code",
   "execution_count": 14,
   "id": "c315f9c0",
   "metadata": {},
   "outputs": [],
   "source": [
    "# split dataset\n",
    "X_train, X_test, y_train, y_test = train_test_split(X, y, test_size=SIZE)\n",
    "\n",
    "# tokenization\n",
    "cv = TfidfVectorizer(stop_words=stopwords.words('english'))\n",
    "X_train = cv.fit_transform(X_train)\n",
    "X_test = cv.transform(X_test)"
   ]
  },
  {
   "cell_type": "code",
   "execution_count": 16,
   "id": "18d8dfae",
   "metadata": {},
   "outputs": [],
   "source": [
    "BIO_ALGS = ['AO', 'HGS', 'SSA', 'MRFO']"
   ]
  },
  {
   "cell_type": "code",
   "execution_count": 17,
   "id": "73179584",
   "metadata": {},
   "outputs": [],
   "source": [
    "def obj_function(solution):\n",
    "    alpha, epsilon, tol = solution\n",
    "    clf = SGDClassifier(alpha=alpha, epsilon=epsilon, tol=tol)\n",
    "    clf.fit(X_train, y_train)\n",
    "\n",
    "    calibrator = CalibratedClassifierCV(clf, cv='prefit')\n",
    "    model = calibrator.fit(X_train, y_train)\n",
    "    y_score = model.predict_proba(X_test)\n",
    "\n",
    "    return roc_auc_score(y_test, y_score[:, 1])"
   ]
  },
  {
   "cell_type": "code",
   "execution_count": 25,
   "id": "d1f07725",
   "metadata": {},
   "outputs": [],
   "source": [
    "from sklearn.linear_model import SGDClassifier\n",
    "from sklearn.calibration import CalibratedClassifierCV\n",
    "from sklearn.metrics import roc_auc_score"
   ]
  },
  {
   "cell_type": "code",
   "execution_count": 28,
   "id": "3b6ffba0",
   "metadata": {},
   "outputs": [
    {
     "name": "stdout",
     "output_type": "stream",
     "text": [
      "> Epoch: 1, Current best: 0.99906499056149, Global best: 0.99906499056149, Runtime: 8.63985 seconds\n",
      "> Epoch: 2, Current best: 0.99906499056149, Global best: 0.99906499056149, Runtime: 7.44782 seconds\n",
      "> Epoch: 3, Current best: 0.99906499056149, Global best: 0.99906499056149, Runtime: 6.85458 seconds\n",
      "> Epoch: 4, Current best: 0.99906499056149, Global best: 0.99906499056149, Runtime: 6.30865 seconds\n",
      "> Epoch: 5, Current best: 0.99906499056149, Global best: 0.99906499056149, Runtime: 6.25252 seconds\n",
      "> Epoch: 6, Current best: 0.99906499056149, Global best: 0.99906499056149, Runtime: 6.22552 seconds\n",
      "> Epoch: 7, Current best: 0.999065441087028, Global best: 0.999065441087028, Runtime: 15.93744 seconds\n",
      "> Epoch: 8, Current best: 0.999065441087028, Global best: 0.999065441087028, Runtime: 12.87079 seconds\n",
      "> Epoch: 9, Current best: 0.999065441087028, Global best: 0.999065441087028, Runtime: 10.42839 seconds\n",
      "> Epoch: 10, Current best: 0.999065441087028, Global best: 0.999065441087028, Runtime: 12.74055 seconds\n",
      "AO with enron is best with:  [array([0.0001, 0.0001, 0.0001]), [0.999065441087028, [0.999065441087028]]]\n"
     ]
    }
   ],
   "source": [
    "alg = 'AO'\n",
    "clf = resolve_clf(alg)\n",
    "best_params_ = test_bio_alg(clf, obj_function)\n",
    "alpha, epsilon, tol = best_params_[0]\n",
    "\n",
    "model = SGDClassifier(alpha=alpha, epsilon=epsilon, tol=tol)\n",
    "model.fit(X_train, y_train)\n",
    "\n",
    "# print best params\n",
    "print(f'{alg} with enron is best with: ', f'{best_params_}'.rjust(29, ' '))"
   ]
  },
  {
   "cell_type": "code",
   "execution_count": 29,
   "id": "2887fb1a",
   "metadata": {},
   "outputs": [
    {
     "name": "stdout",
     "output_type": "stream",
     "text": [
      "> Epoch: 1, Current best: 0.9990660042439505, Global best: 0.9990660042439505, Runtime: 7.22585 seconds\n",
      "> Epoch: 2, Current best: 0.9990665110851807, Global best: 0.9990665110851807, Runtime: 10.32216 seconds\n",
      "> Epoch: 3, Current best: 0.9990657226654892, Global best: 0.9990665110851807, Runtime: 12.81471 seconds\n",
      "> Epoch: 4, Current best: 0.9990631884593377, Global best: 0.9990665110851807, Runtime: 15.08706 seconds\n",
      "> Epoch: 5, Current best: 0.9990662858224117, Global best: 0.9990665110851807, Runtime: 14.46896 seconds\n",
      "> Epoch: 6, Current best: 0.9990646526673365, Global best: 0.9990665110851807, Runtime: 13.22796 seconds\n",
      "> Epoch: 7, Current best: 0.9990656100341048, Global best: 0.9990665110851807, Runtime: 13.68029 seconds\n",
      "> Epoch: 8, Current best: 0.9990650468771823, Global best: 0.9990665110851807, Runtime: 17.21571 seconds\n",
      "> Epoch: 9, Current best: 0.9990641458261061, Global best: 0.9990665110851807, Runtime: 15.37429 seconds\n",
      "> Epoch: 10, Current best: 0.9990646526673365, Global best: 0.9990665110851807, Runtime: 14.84761 seconds\n",
      "HGS with enron is best with:  [array([0.0001, 0.0001, 0.0001]), [0.9990665110851807, [0.9990665110851807]], 10612.137084935057]\n"
     ]
    }
   ],
   "source": [
    "alg = 'HGS'\n",
    "clf = resolve_clf(alg)\n",
    "best_params_ = test_bio_alg(clf, obj_function)\n",
    "alpha, epsilon, tol = best_params_[0]\n",
    "\n",
    "model = SGDClassifier(alpha=alpha, epsilon=epsilon, tol=tol)\n",
    "model.fit(X_train, y_train)\n",
    "\n",
    "# print best params\n",
    "print(f'{alg} with enron is best with: ', f'{best_params_}'.rjust(29, ' '))"
   ]
  },
  {
   "cell_type": "code",
   "execution_count": 30,
   "id": "4a20f288",
   "metadata": {},
   "outputs": [
    {
     "name": "stdout",
     "output_type": "stream",
     "text": [
      "> Epoch: 1, Current best: 0.9941685100669931, Global best: 0.9941685100669931, Runtime: 15.86160 seconds\n",
      "> Epoch: 2, Current best: 0.9967776160891679, Global best: 0.9967776160891679, Runtime: 13.54730 seconds\n",
      "> Epoch: 3, Current best: 0.9967776160891679, Global best: 0.9967776160891679, Runtime: 13.09876 seconds\n",
      "> Epoch: 4, Current best: 0.9967776160891679, Global best: 0.9967776160891679, Runtime: 14.29289 seconds\n",
      "> Epoch: 5, Current best: 0.9967776160891679, Global best: 0.9967776160891679, Runtime: 19.16693 seconds\n",
      "> Epoch: 6, Current best: 0.9967776160891679, Global best: 0.9967776160891679, Runtime: 16.62466 seconds\n",
      "> Epoch: 7, Current best: 0.9967776160891679, Global best: 0.9967776160891679, Runtime: 15.82414 seconds\n",
      "> Epoch: 8, Current best: 0.9967776160891679, Global best: 0.9967776160891679, Runtime: 18.57276 seconds\n",
      "> Epoch: 9, Current best: 0.9967776160891679, Global best: 0.9967776160891679, Runtime: 17.89888 seconds\n",
      "> Epoch: 10, Current best: 0.9967776160891679, Global best: 0.9967776160891679, Runtime: 16.59485 seconds\n",
      "SSA with enron is best with:  [array([0.00187642, 0.00422567, 0.0034566 ]), [0.9967776160891679, [0.9967776160891679]]]\n"
     ]
    }
   ],
   "source": [
    "alg = 'SSA'\n",
    "clf = resolve_clf(alg)\n",
    "best_params_ = test_bio_alg(clf, obj_function)\n",
    "alpha, epsilon, tol = best_params_[0]\n",
    "\n",
    "model = SGDClassifier(alpha=alpha, epsilon=epsilon, tol=tol)\n",
    "model.fit(X_train, y_train)\n",
    "\n",
    "# print best params\n",
    "print(f'{alg} with enron is best with: ', f'{best_params_}'.rjust(29, ' '))"
   ]
  },
  {
   "cell_type": "code",
   "execution_count": 31,
   "id": "4a50da3a",
   "metadata": {},
   "outputs": [
    {
     "name": "stdout",
     "output_type": "stream",
     "text": [
      "> Epoch: 1, Current best: 0.9990847010537792, Global best: 0.9990847010537792, Runtime: 17.79025 seconds\n",
      "> Epoch: 2, Current best: 0.9991026094439163, Global best: 0.9991026094439163, Runtime: 16.46893 seconds\n",
      "> Epoch: 3, Current best: 0.9991026094439163, Global best: 0.9991026094439163, Runtime: 17.41599 seconds\n",
      "> Epoch: 4, Current best: 0.9991026094439163, Global best: 0.9991026094439163, Runtime: 18.10333 seconds\n",
      "> Epoch: 5, Current best: 0.9991026094439163, Global best: 0.9991026094439163, Runtime: 15.52336 seconds\n",
      "> Epoch: 6, Current best: 0.9991026094439163, Global best: 0.9991026094439163, Runtime: 17.94680 seconds\n",
      "> Epoch: 7, Current best: 0.9991026094439163, Global best: 0.9991026094439163, Runtime: 22.49260 seconds\n",
      "> Epoch: 8, Current best: 0.9991026094439163, Global best: 0.9991026094439163, Runtime: 15.40007 seconds\n",
      "> Epoch: 9, Current best: 0.9991026094439163, Global best: 0.9991026094439163, Runtime: 15.90241 seconds\n",
      "> Epoch: 10, Current best: 0.9991026094439163, Global best: 0.9991026094439163, Runtime: 16.55587 seconds\n",
      "MRFO with enron is best with:  [array([1.e-04, 1.e+03, 1.e+03]), [0.9991026094439163, [0.9991026094439163]]]\n"
     ]
    }
   ],
   "source": [
    "alg = 'MRFO'\n",
    "clf = resolve_clf(alg)\n",
    "best_params_ = test_bio_alg(clf, obj_function)\n",
    "alpha, epsilon, tol = best_params_[0]\n",
    "\n",
    "model = SGDClassifier(alpha=alpha, epsilon=epsilon, tol=tol)\n",
    "model.fit(X_train, y_train)\n",
    "\n",
    "# print best params\n",
    "print(f'{alg} with enron is best with: ', f'{best_params_}'.rjust(29, ' '))"
   ]
  },
  {
   "cell_type": "code",
   "execution_count": 45,
   "id": "a4eff64a",
   "metadata": {},
   "outputs": [
    {
     "name": "stdout",
     "output_type": "stream",
     "text": [
      "RSCV {'tol': 10, 'epsilon': 1, 'alpha': 0.0001}\n"
     ]
    }
   ],
   "source": [
    "tuned_parameters = {\n",
    "    'epsilon': [0.0001, 0.001, 0.01, 0.1, 1, 10, 100, 1000],\n",
    "    'alpha': [0.0001, 0.001, 0.01, 0.1, 1, 10, 100, 1000],\n",
    "    'tol': [0.0001, 0.001, 0.01, 0.1, 1, 10, 100, 1000]\n",
    "}\n",
    "\n",
    "clf = SGDClassifier(random_state=0)\n",
    "model = RandomizedSearchCV(clf, tuned_parameters, scoring=\"roc_auc\", random_state=0)\n",
    "model.fit(X_train, y_train)\n",
    "print('RSCV', model.best_params_)"
   ]
  },
  {
   "cell_type": "code",
   "execution_count": 46,
   "id": "e5d47e78",
   "metadata": {},
   "outputs": [
    {
     "ename": "NameError",
     "evalue": "name 'X_enron' is not defined",
     "output_type": "error",
     "traceback": [
      "\u001b[0;31m---------------------------------------------------------------------------\u001b[0m",
      "\u001b[0;31mNameError\u001b[0m                                 Traceback (most recent call last)",
      "Input \u001b[0;32mIn [46]\u001b[0m, in \u001b[0;36m<cell line: 7>\u001b[0;34m()\u001b[0m\n\u001b[1;32m      4\u001b[0m \u001b[38;5;28;01mfrom\u001b[39;00m \u001b[38;5;21;01msklearn\u001b[39;00m\u001b[38;5;21;01m.\u001b[39;00m\u001b[38;5;21;01mcalibration\u001b[39;00m \u001b[38;5;28;01mimport\u001b[39;00m calibration_curve\n\u001b[1;32m      5\u001b[0m \u001b[38;5;28;01mimport\u001b[39;00m \u001b[38;5;21;01mmatplotlib\u001b[39;00m\u001b[38;5;21;01m.\u001b[39;00m\u001b[38;5;21;01mpyplot\u001b[39;00m \u001b[38;5;28;01mas\u001b[39;00m \u001b[38;5;21;01mplt\u001b[39;00m\n\u001b[0;32m----> 7\u001b[0m X \u001b[38;5;241m=\u001b[39m \u001b[43mX_enron\u001b[49m\n\u001b[1;32m      8\u001b[0m y \u001b[38;5;241m=\u001b[39m y_enron\n\u001b[1;32m     10\u001b[0m \u001b[38;5;66;03m# Splitting dataset into training and testing sets\u001b[39;00m\n",
      "\u001b[0;31mNameError\u001b[0m: name 'X_enron' is not defined"
     ]
    }
   ],
   "source": []
  },
  {
   "cell_type": "code",
   "execution_count": null,
   "id": "ad293776",
   "metadata": {},
   "outputs": [],
   "source": []
  }
 ],
 "metadata": {
  "kernelspec": {
   "display_name": "Python 3 (ipykernel)",
   "language": "python",
   "name": "python3"
  },
  "language_info": {
   "codemirror_mode": {
    "name": "ipython",
    "version": 3
   },
   "file_extension": ".py",
   "mimetype": "text/x-python",
   "name": "python",
   "nbconvert_exporter": "python",
   "pygments_lexer": "ipython3",
   "version": "3.9.12"
  }
 },
 "nbformat": 4,
 "nbformat_minor": 5
}
